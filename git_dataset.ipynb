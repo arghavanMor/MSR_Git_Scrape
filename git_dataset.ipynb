{
 "cells": [
  {
   "cell_type": "code",
   "execution_count": 1,
   "metadata": {},
   "outputs": [],
   "source": [
    "import pydriller as pyd\n",
    "import pandas as pd\n",
    "from datetime import datetime"
   ]
  },
  {
   "cell_type": "code",
   "execution_count": 2,
   "metadata": {},
   "outputs": [],
   "source": [
    "tf_source = pd.DataFrame(columns=['commit_ID', 'Author', 'Authored_Date','email','msg','Commiter','committer_date',\n",
    "                                  'project_path','Commit_before', 'Commit_after','diff','Added_LOC','Removed_LOC',\n",
    "                                 'Num_LOC','token_counts'])"
   ]
  },
  {
   "cell_type": "code",
   "execution_count": 3,
   "metadata": {},
   "outputs": [],
   "source": [
    "tf_dt1 = datetime(2017,1, 1)\n",
    "tf_dt2 = datetime(2017, 12, 30)\n",
    "#tf_bug = pd.DataFrame(columns=['commit_ID', 'Author','Authored_Date','email','msg', 'Commiter','committer_date',\n",
    "                              # 'project_path','Commit_before', 'Commit_after','diff','Added_LOC','Removed_LOC',\n",
    "                              # 'Num_LOC','token_counts'])\n",
    "#path = [\"https://github.com/balloob/pychromecast.git\"]\n",
    "path = [\"https://github.com/pandas-dev/pandas.git\"]\n",
    "Authors = ['Daniel Saxton','William Ayd']"
   ]
  },
  {
   "cell_type": "code",
   "execution_count": 4,
   "metadata": {},
   "outputs": [
    {
     "name": "stderr",
     "output_type": "stream",
     "text": [
      "Exception ignored in: <finalize object at 0x23d2f21a1a0; dead>\n",
      "Traceback (most recent call last):\n",
      "  File \"C:\\Users\\morad\\Anaconda3\\lib\\weakref.py\", line 572, in __call__\n",
      "    return info.func(*info.args, **(info.kwargs or {}))\n",
      "  File \"C:\\Users\\morad\\Anaconda3\\lib\\tempfile.py\", line 795, in _cleanup\n",
      "    _shutil.rmtree(name)\n",
      "  File \"C:\\Users\\morad\\Anaconda3\\lib\\shutil.py\", line 516, in rmtree\n",
      "    return _rmtree_unsafe(path, onerror)\n",
      "  File \"C:\\Users\\morad\\Anaconda3\\lib\\shutil.py\", line 395, in _rmtree_unsafe\n",
      "    _rmtree_unsafe(fullname, onerror)\n",
      "  File \"C:\\Users\\morad\\Anaconda3\\lib\\shutil.py\", line 395, in _rmtree_unsafe\n",
      "    _rmtree_unsafe(fullname, onerror)\n",
      "  File \"C:\\Users\\morad\\Anaconda3\\lib\\shutil.py\", line 395, in _rmtree_unsafe\n",
      "    _rmtree_unsafe(fullname, onerror)\n",
      "  [Previous line repeated 1 more time]\n",
      "  File \"C:\\Users\\morad\\Anaconda3\\lib\\shutil.py\", line 400, in _rmtree_unsafe\n",
      "    onerror(os.unlink, fullname, sys.exc_info())\n",
      "  File \"C:\\Users\\morad\\Anaconda3\\lib\\shutil.py\", line 398, in _rmtree_unsafe\n",
      "    os.unlink(fullname)\n",
      "PermissionError: [WinError 5] Access is denied: 'C:\\\\Users\\\\morad\\\\AppData\\\\Local\\\\Temp\\\\tmpun0d2awv\\\\pandas\\\\.git\\\\objects\\\\pack\\\\pack-c062b39cf33627018ad8d58c06827eb24dffe8bf.idx'\n"
     ]
    }
   ],
   "source": [
    "#, only_authors=Authors , since=tf_dt1, to=tf_dt2\n",
    "for commit in pyd.RepositoryMining(path_to_repo=path, only_authors=Authors).traverse_commits():\n",
    "    for modified_file in commit.modifications:\n",
    "        if modified_file.filename.endswith(\".py\"):\n",
    "            tf_source = tf_source.append({'commit_ID': commit.hash, 'Author': commit.author.name, \n",
    "                                          'Authored_Date':commit.author_date , 'email': commit.author.email,\n",
    "                                          'msg': commit.msg,'Commiter': commit.committer.name, 'committer_date': commit.committer_date,\n",
    "                                          'project_path':path,'Commit_before': modified_file.source_code_before,\n",
    "                                          'Commit_after': modified_file.source_code,'diff':modified_file.diff,\n",
    "                                          'Added_LOC':modified_file.added,'Removed_LOC':modified_file.removed,\n",
    "                                          'Num_LOC':modified_file.nloc,'token_counts':modified_file.token_count}, ignore_index=True)\n",
    "                #print(\"Code\", commit.hash, commit.author.name, commit.msg,commit.author_date,\n",
    "                        # modified_file.filename, flush=True)"
   ]
  },
  {
   "cell_type": "code",
   "execution_count": 10,
   "metadata": {},
   "outputs": [],
   "source": [
    "tf_source.to_csv(r'C:\\GH-Dataset\\extra.csv', index=None, header=True)"
   ]
  },
  {
   "cell_type": "code",
   "execution_count": 3,
   "metadata": {},
   "outputs": [],
   "source": [
    "tf_source =  pd.read_csv('C:\\GH-Dataset\\GH_Data_new.csv')"
   ]
  },
  {
   "cell_type": "code",
   "execution_count": 9,
   "metadata": {},
   "outputs": [
    {
     "data": {
      "text/plain": [
       "(629, 15)"
      ]
     },
     "execution_count": 9,
     "metadata": {},
     "output_type": "execute_result"
    }
   ],
   "source": [
    "tf_source.shape"
   ]
  },
  {
   "cell_type": "code",
   "execution_count": 20,
   "metadata": {},
   "outputs": [],
   "source": [
    "LDA_code = tf_source.groupby(['Author']).size().reset_index(name='count')"
   ]
  },
  {
   "cell_type": "code",
   "execution_count": 21,
   "metadata": {},
   "outputs": [
    {
     "data": {
      "text/html": [
       "<div>\n",
       "<style scoped>\n",
       "    .dataframe tbody tr th:only-of-type {\n",
       "        vertical-align: middle;\n",
       "    }\n",
       "\n",
       "    .dataframe tbody tr th {\n",
       "        vertical-align: top;\n",
       "    }\n",
       "\n",
       "    .dataframe thead th {\n",
       "        text-align: right;\n",
       "    }\n",
       "</style>\n",
       "<table border=\"1\" class=\"dataframe\">\n",
       "  <thead>\n",
       "    <tr style=\"text-align: right;\">\n",
       "      <th></th>\n",
       "      <th>Author</th>\n",
       "      <th>count</th>\n",
       "    </tr>\n",
       "  </thead>\n",
       "  <tbody>\n",
       "    <tr>\n",
       "      <td>0</td>\n",
       "      <td>3vts</td>\n",
       "      <td>52</td>\n",
       "    </tr>\n",
       "    <tr>\n",
       "      <td>1</td>\n",
       "      <td>Abdullah İhsan Seçer</td>\n",
       "      <td>50</td>\n",
       "    </tr>\n",
       "    <tr>\n",
       "      <td>2</td>\n",
       "      <td>Albert Villanova del Moral</td>\n",
       "      <td>121</td>\n",
       "    </tr>\n",
       "    <tr>\n",
       "      <td>3</td>\n",
       "      <td>Alexander Ponomaroff</td>\n",
       "      <td>103</td>\n",
       "    </tr>\n",
       "    <tr>\n",
       "      <td>4</td>\n",
       "      <td>Anders Melchiorsen</td>\n",
       "      <td>379</td>\n",
       "    </tr>\n",
       "    <tr>\n",
       "      <td>...</td>\n",
       "      <td>...</td>\n",
       "      <td>...</td>\n",
       "    </tr>\n",
       "    <tr>\n",
       "      <td>88</td>\n",
       "      <td>h-vetinari</td>\n",
       "      <td>254</td>\n",
       "    </tr>\n",
       "    <tr>\n",
       "      <td>89</td>\n",
       "      <td>jbrockmendel</td>\n",
       "      <td>6421</td>\n",
       "    </tr>\n",
       "    <tr>\n",
       "      <td>90</td>\n",
       "      <td>joshin4colours</td>\n",
       "      <td>24</td>\n",
       "    </tr>\n",
       "    <tr>\n",
       "      <td>91</td>\n",
       "      <td>jschendel</td>\n",
       "      <td>109</td>\n",
       "    </tr>\n",
       "    <tr>\n",
       "      <td>92</td>\n",
       "      <td>topper-123</td>\n",
       "      <td>1340</td>\n",
       "    </tr>\n",
       "  </tbody>\n",
       "</table>\n",
       "<p>93 rows × 2 columns</p>\n",
       "</div>"
      ],
      "text/plain": [
       "                        Author  count\n",
       "0                         3vts     52\n",
       "1         Abdullah İhsan Seçer     50\n",
       "2   Albert Villanova del Moral    121\n",
       "3         Alexander Ponomaroff    103\n",
       "4           Anders Melchiorsen    379\n",
       "..                         ...    ...\n",
       "88                  h-vetinari    254\n",
       "89                jbrockmendel   6421\n",
       "90              joshin4colours     24\n",
       "91                   jschendel    109\n",
       "92                  topper-123   1340\n",
       "\n",
       "[93 rows x 2 columns]"
      ]
     },
     "execution_count": 21,
     "metadata": {},
     "output_type": "execute_result"
    }
   ],
   "source": [
    "LDA_code"
   ]
  },
  {
   "cell_type": "code",
   "execution_count": 182,
   "metadata": {},
   "outputs": [],
   "source": [
    "a= ['Jiaxiang',\n",
    "'Wenhuan',\n",
    "'anmyachev',\n",
    "'ganevgv',\n",
    "'pilkibun',\n",
    "'syutbai'] "
   ]
  },
  {
   "cell_type": "code",
   "execution_count": 204,
   "metadata": {},
   "outputs": [],
   "source": [
    "tf_source = Final_source"
   ]
  },
  {
   "cell_type": "code",
   "execution_count": 183,
   "metadata": {},
   "outputs": [],
   "source": [
    "\n",
    "tf = tf[~tf['Author'].isin(a)]"
   ]
  },
  {
   "cell_type": "code",
   "execution_count": 213,
   "metadata": {},
   "outputs": [
    {
     "data": {
      "text/plain": [
       "(47733, 15)"
      ]
     },
     "execution_count": 213,
     "metadata": {},
     "output_type": "execute_result"
    }
   ],
   "source": [
    "#tf_source[tf_source['Author'] =='Bas Nijholt'].shape\n",
    "tf_source.shape"
   ]
  },
  {
   "cell_type": "code",
   "execution_count": 199,
   "metadata": {},
   "outputs": [],
   "source": [
    "#LDA_code.sort_values(by=['count'],ascending=True).reset_index()\n",
    "good = LDA_code[LDA_code['count']>20]"
   ]
  },
  {
   "cell_type": "code",
   "execution_count": 196,
   "metadata": {},
   "outputs": [],
   "source": [
    "LDA_Author = LDA_code[LDA_code['count']>19]['Author']\n",
    "Final_source = tf_source[tf_source['Author'].isin(LDA_Author)]"
   ]
  },
  {
   "cell_type": "code",
   "execution_count": 197,
   "metadata": {},
   "outputs": [
    {
     "data": {
      "text/plain": [
       "(39925, 15)"
      ]
     },
     "execution_count": 197,
     "metadata": {},
     "output_type": "execute_result"
    }
   ],
   "source": [
    "Final_source.shape"
   ]
  },
  {
   "cell_type": "code",
   "execution_count": 198,
   "metadata": {},
   "outputs": [],
   "source": [
    "LDA_code = Final_source.groupby(['Author']).size().reset_index(name='count')"
   ]
  },
  {
   "cell_type": "code",
   "execution_count": 201,
   "metadata": {},
   "outputs": [
    {
     "data": {
      "text/html": [
       "<div>\n",
       "<style scoped>\n",
       "    .dataframe tbody tr th:only-of-type {\n",
       "        vertical-align: middle;\n",
       "    }\n",
       "\n",
       "    .dataframe tbody tr th {\n",
       "        vertical-align: top;\n",
       "    }\n",
       "\n",
       "    .dataframe thead th {\n",
       "        text-align: right;\n",
       "    }\n",
       "</style>\n",
       "<table border=\"1\" class=\"dataframe\">\n",
       "  <thead>\n",
       "    <tr style=\"text-align: right;\">\n",
       "      <th></th>\n",
       "      <th>Author</th>\n",
       "      <th>count</th>\n",
       "    </tr>\n",
       "  </thead>\n",
       "  <tbody>\n",
       "    <tr>\n",
       "      <td>4</td>\n",
       "      <td>Anjana S</td>\n",
       "      <td>37</td>\n",
       "    </tr>\n",
       "    <tr>\n",
       "      <td>5</td>\n",
       "      <td>Avinash Sen</td>\n",
       "      <td>24</td>\n",
       "    </tr>\n",
       "    <tr>\n",
       "      <td>14</td>\n",
       "      <td>Erik Nilsson</td>\n",
       "      <td>40</td>\n",
       "    </tr>\n",
       "    <tr>\n",
       "      <td>17</td>\n",
       "      <td>Hugh Kelley</td>\n",
       "      <td>44</td>\n",
       "    </tr>\n",
       "    <tr>\n",
       "      <td>18</td>\n",
       "      <td>Irv Lustig</td>\n",
       "      <td>46</td>\n",
       "    </tr>\n",
       "    <tr>\n",
       "      <td>26</td>\n",
       "      <td>Kara de la Marck</td>\n",
       "      <td>40</td>\n",
       "    </tr>\n",
       "    <tr>\n",
       "      <td>27</td>\n",
       "      <td>Kendall Masse</td>\n",
       "      <td>24</td>\n",
       "    </tr>\n",
       "    <tr>\n",
       "      <td>29</td>\n",
       "      <td>Ksenia Gueletina</td>\n",
       "      <td>25</td>\n",
       "    </tr>\n",
       "    <tr>\n",
       "      <td>30</td>\n",
       "      <td>LeakedMemory</td>\n",
       "      <td>46</td>\n",
       "    </tr>\n",
       "    <tr>\n",
       "      <td>46</td>\n",
       "      <td>Ryan Nazareth</td>\n",
       "      <td>35</td>\n",
       "    </tr>\n",
       "    <tr>\n",
       "      <td>49</td>\n",
       "      <td>Srinivas Reddy Thatiparthy (శ్రీనివాస్  రెడ్డి...</td>\n",
       "      <td>38</td>\n",
       "    </tr>\n",
       "    <tr>\n",
       "      <td>54</td>\n",
       "      <td>Thijs Damsma</td>\n",
       "      <td>47</td>\n",
       "    </tr>\n",
       "    <tr>\n",
       "      <td>55</td>\n",
       "      <td>Tola A</td>\n",
       "      <td>43</td>\n",
       "    </tr>\n",
       "    <tr>\n",
       "      <td>57</td>\n",
       "      <td>Varad Gunjal</td>\n",
       "      <td>20</td>\n",
       "    </tr>\n",
       "    <tr>\n",
       "      <td>58</td>\n",
       "      <td>Vikramjeet Das</td>\n",
       "      <td>22</td>\n",
       "    </tr>\n",
       "  </tbody>\n",
       "</table>\n",
       "</div>"
      ],
      "text/plain": [
       "                                               Author  count\n",
       "4                                            Anjana S     37\n",
       "5                                         Avinash Sen     24\n",
       "14                                       Erik Nilsson     40\n",
       "17                                        Hugh Kelley     44\n",
       "18                                         Irv Lustig     46\n",
       "26                                   Kara de la Marck     40\n",
       "27                                      Kendall Masse     24\n",
       "29                                   Ksenia Gueletina     25\n",
       "30                                       LeakedMemory     46\n",
       "46                                      Ryan Nazareth     35\n",
       "49  Srinivas Reddy Thatiparthy (శ్రీనివాస్  రెడ్డి...     38\n",
       "54                                       Thijs Damsma     47\n",
       "55                                             Tola A     43\n",
       "57                                       Varad Gunjal     20\n",
       "58                                     Vikramjeet Das     22"
      ]
     },
     "execution_count": 201,
     "metadata": {},
     "output_type": "execute_result"
    }
   ],
   "source": [
    "good[good['count']<50]"
   ]
  },
  {
   "cell_type": "code",
   "execution_count": 202,
   "metadata": {},
   "outputs": [
    {
     "data": {
      "text/html": [
       "<div>\n",
       "<style scoped>\n",
       "    .dataframe tbody tr th:only-of-type {\n",
       "        vertical-align: middle;\n",
       "    }\n",
       "\n",
       "    .dataframe tbody tr th {\n",
       "        vertical-align: top;\n",
       "    }\n",
       "\n",
       "    .dataframe thead th {\n",
       "        text-align: right;\n",
       "    }\n",
       "</style>\n",
       "<table border=\"1\" class=\"dataframe\">\n",
       "  <thead>\n",
       "    <tr style=\"text-align: right;\">\n",
       "      <th></th>\n",
       "      <th>Author</th>\n",
       "      <th>count</th>\n",
       "    </tr>\n",
       "  </thead>\n",
       "  <tbody>\n",
       "    <tr>\n",
       "      <td>0</td>\n",
       "      <td>3vts</td>\n",
       "      <td>52</td>\n",
       "    </tr>\n",
       "    <tr>\n",
       "      <td>1</td>\n",
       "      <td>Abdullah İhsan Seçer</td>\n",
       "      <td>50</td>\n",
       "    </tr>\n",
       "    <tr>\n",
       "      <td>2</td>\n",
       "      <td>Albert Villanova del Moral</td>\n",
       "      <td>121</td>\n",
       "    </tr>\n",
       "    <tr>\n",
       "      <td>3</td>\n",
       "      <td>Alexander Ponomaroff</td>\n",
       "      <td>103</td>\n",
       "    </tr>\n",
       "    <tr>\n",
       "      <td>4</td>\n",
       "      <td>Anjana S</td>\n",
       "      <td>37</td>\n",
       "    </tr>\n",
       "    <tr>\n",
       "      <td>...</td>\n",
       "      <td>...</td>\n",
       "      <td>...</td>\n",
       "    </tr>\n",
       "    <tr>\n",
       "      <td>61</td>\n",
       "      <td>gfyoung</td>\n",
       "      <td>1384</td>\n",
       "    </tr>\n",
       "    <tr>\n",
       "      <td>62</td>\n",
       "      <td>h-vetinari</td>\n",
       "      <td>254</td>\n",
       "    </tr>\n",
       "    <tr>\n",
       "      <td>63</td>\n",
       "      <td>jbrockmendel</td>\n",
       "      <td>6421</td>\n",
       "    </tr>\n",
       "    <tr>\n",
       "      <td>64</td>\n",
       "      <td>jschendel</td>\n",
       "      <td>109</td>\n",
       "    </tr>\n",
       "    <tr>\n",
       "      <td>65</td>\n",
       "      <td>topper-123</td>\n",
       "      <td>1340</td>\n",
       "    </tr>\n",
       "  </tbody>\n",
       "</table>\n",
       "<p>66 rows × 2 columns</p>\n",
       "</div>"
      ],
      "text/plain": [
       "                        Author  count\n",
       "0                         3vts     52\n",
       "1         Abdullah İhsan Seçer     50\n",
       "2   Albert Villanova del Moral    121\n",
       "3         Alexander Ponomaroff    103\n",
       "4                     Anjana S     37\n",
       "..                         ...    ...\n",
       "61                     gfyoung   1384\n",
       "62                  h-vetinari    254\n",
       "63                jbrockmendel   6421\n",
       "64                   jschendel    109\n",
       "65                  topper-123   1340\n",
       "\n",
       "[66 rows x 2 columns]"
      ]
     },
     "execution_count": 202,
     "metadata": {},
     "output_type": "execute_result"
    }
   ],
   "source": [
    "LDA_code"
   ]
  },
  {
   "cell_type": "code",
   "execution_count": 120,
   "metadata": {},
   "outputs": [
    {
     "data": {
      "text/html": [
       "<div>\n",
       "<style scoped>\n",
       "    .dataframe tbody tr th:only-of-type {\n",
       "        vertical-align: middle;\n",
       "    }\n",
       "\n",
       "    .dataframe tbody tr th {\n",
       "        vertical-align: top;\n",
       "    }\n",
       "\n",
       "    .dataframe thead th {\n",
       "        text-align: right;\n",
       "    }\n",
       "</style>\n",
       "<table border=\"1\" class=\"dataframe\">\n",
       "  <thead>\n",
       "    <tr style=\"text-align: right;\">\n",
       "      <th></th>\n",
       "      <th>Author</th>\n",
       "      <th>count</th>\n",
       "    </tr>\n",
       "  </thead>\n",
       "  <tbody>\n",
       "    <tr>\n",
       "      <td>9</td>\n",
       "      <td>Anjana S</td>\n",
       "      <td>37</td>\n",
       "    </tr>\n",
       "    <tr>\n",
       "      <td>11</td>\n",
       "      <td>ArtinSarraf</td>\n",
       "      <td>36</td>\n",
       "    </tr>\n",
       "    <tr>\n",
       "      <td>18</td>\n",
       "      <td>Brian Wignall</td>\n",
       "      <td>36</td>\n",
       "    </tr>\n",
       "    <tr>\n",
       "      <td>32</td>\n",
       "      <td>Erik Nilsson</td>\n",
       "      <td>40</td>\n",
       "    </tr>\n",
       "    <tr>\n",
       "      <td>35</td>\n",
       "      <td>Fábio Rosado</td>\n",
       "      <td>33</td>\n",
       "    </tr>\n",
       "    <tr>\n",
       "      <td>46</td>\n",
       "      <td>Jerod Estapa</td>\n",
       "      <td>34</td>\n",
       "    </tr>\n",
       "    <tr>\n",
       "      <td>55</td>\n",
       "      <td>Kara de la Marck</td>\n",
       "      <td>36</td>\n",
       "    </tr>\n",
       "    <tr>\n",
       "      <td>83</td>\n",
       "      <td>Roman Yurchak</td>\n",
       "      <td>32</td>\n",
       "    </tr>\n",
       "    <tr>\n",
       "      <td>84</td>\n",
       "      <td>Ryan Nazareth</td>\n",
       "      <td>35</td>\n",
       "    </tr>\n",
       "    <tr>\n",
       "      <td>89</td>\n",
       "      <td>Srinivas Reddy Thatiparthy (శ్రీనివాస్  రెడ్డి...</td>\n",
       "      <td>38</td>\n",
       "    </tr>\n",
       "    <tr>\n",
       "      <td>111</td>\n",
       "      <td>alphaCTzo7G</td>\n",
       "      <td>32</td>\n",
       "    </tr>\n",
       "    <tr>\n",
       "      <td>117</td>\n",
       "      <td>ganevgv</td>\n",
       "      <td>34</td>\n",
       "    </tr>\n",
       "    <tr>\n",
       "      <td>125</td>\n",
       "      <td>luzpaz</td>\n",
       "      <td>31</td>\n",
       "    </tr>\n",
       "    <tr>\n",
       "      <td>131</td>\n",
       "      <td>rebecca-palmer</td>\n",
       "      <td>33</td>\n",
       "    </tr>\n",
       "    <tr>\n",
       "      <td>133</td>\n",
       "      <td>syutbai</td>\n",
       "      <td>31</td>\n",
       "    </tr>\n",
       "  </tbody>\n",
       "</table>\n",
       "</div>"
      ],
      "text/plain": [
       "                                                Author  count\n",
       "9                                             Anjana S     37\n",
       "11                                         ArtinSarraf     36\n",
       "18                                       Brian Wignall     36\n",
       "32                                        Erik Nilsson     40\n",
       "35                                        Fábio Rosado     33\n",
       "46                                        Jerod Estapa     34\n",
       "55                                    Kara de la Marck     36\n",
       "83                                       Roman Yurchak     32\n",
       "84                                       Ryan Nazareth     35\n",
       "89   Srinivas Reddy Thatiparthy (శ్రీనివాస్  రెడ్డి...     38\n",
       "111                                        alphaCTzo7G     32\n",
       "117                                            ganevgv     34\n",
       "125                                             luzpaz     31\n",
       "131                                     rebecca-palmer     33\n",
       "133                                            syutbai     31"
      ]
     },
     "execution_count": 120,
     "metadata": {},
     "output_type": "execute_result"
    }
   ],
   "source": [
    "test[test['count']>30]"
   ]
  },
  {
   "cell_type": "code",
   "execution_count": 2,
   "metadata": {},
   "outputs": [],
   "source": [
    "Final_source =  pd.read_csv('C:\\GH-Dataset\\GH_Data_new.csv')"
   ]
  },
  {
   "cell_type": "code",
   "execution_count": 3,
   "metadata": {},
   "outputs": [],
   "source": [
    "final = Final_source + Final_source"
   ]
  },
  {
   "cell_type": "code",
   "execution_count": 4,
   "metadata": {},
   "outputs": [],
   "source": [
    "final.to_csv(r'C:\\GH-Dataset\\GH_Data_agre.csv', index=None, header=True)"
   ]
  },
  {
   "cell_type": "code",
   "execution_count": null,
   "metadata": {},
   "outputs": [],
   "source": []
  }
 ],
 "metadata": {
  "kernelspec": {
   "display_name": "Python 3",
   "language": "python",
   "name": "python3"
  },
  "language_info": {
   "codemirror_mode": {
    "name": "ipython",
    "version": 3
   },
   "file_extension": ".py",
   "mimetype": "text/x-python",
   "name": "python",
   "nbconvert_exporter": "python",
   "pygments_lexer": "ipython3",
   "version": "3.7.4"
  }
 },
 "nbformat": 4,
 "nbformat_minor": 2
}
